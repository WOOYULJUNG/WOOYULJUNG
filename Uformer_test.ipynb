{
  "nbformat": 4,
  "nbformat_minor": 0,
  "metadata": {
    "colab": {
      "name": "Uformer_test.ipynb",
      "provenance": [],
      "collapsed_sections": [],
      "include_colab_link": true
    },
    "kernelspec": {
      "name": "python3",
      "display_name": "Python 3"
    },
    "language_info": {
      "name": "python"
    },
    "accelerator": "GPU"
  },
  "cells": [
    {
      "cell_type": "markdown",
      "metadata": {
        "id": "view-in-github",
        "colab_type": "text"
      },
      "source": [
        "<a href=\"https://colab.research.google.com/github/WOOYULJUNG/WOOYULJUNG/blob/main/Uformer_test.ipynb\" target=\"_parent\"><img src=\"https://colab.research.google.com/assets/colab-badge.svg\" alt=\"Open In Colab\"/></a>"
      ]
    },
    {
      "cell_type": "code",
      "execution_count": null,
      "metadata": {
        "id": "MWKOFXKcrgMx"
      },
      "outputs": [],
      "source": [
        "import zipfile\n",
        "#from sklearn.utils import shuffle\n",
        "\n",
        "train_input_img_zip = zipfile.ZipFile('/content/drive/MyDrive/Umm_Hands_On/data/train_input_img.zip')\n",
        "train_input_img_zip.extractall('/content/data/train/input')\n",
        "train_input_img_zip.close()\n",
        "\n",
        "train_label_img_zip = zipfile.ZipFile('/content/drive/MyDrive/Umm_Hands_On/data/train_label_img.zip')\n",
        "train_label_img_zip.extractall('/content/data/train/label')\n",
        "train_label_img_zip.close()\n",
        "\n",
        "val_input_img_zip = zipfile.ZipFile('/content/drive/MyDrive/Umm_Hands_On/data/val_input_img.zip')\n",
        "val_input_img_zip.extractall('/content/data/val/input')\n",
        "val_input_img_zip.close()\n",
        "\n",
        "val_label_img_zip = zipfile.ZipFile('/content/drive/MyDrive/Umm_Hands_On/data/val_label_img.zip')\n",
        "val_label_img_zip.extractall('/content/data/val/label')\n",
        "val_label_img_zip.close()"
      ]
    },
    {
      "cell_type": "code",
      "source": [
        "cd '/content/drive/MyDrive/Umm_Hands_On/okj/Uformer'"
      ],
      "metadata": {
        "colab": {
          "base_uri": "https://localhost:8080/"
        },
        "id": "dwpIkubpLonw",
        "outputId": "7f30476b-40e3-4149-ec0c-d87f01415fdf"
      },
      "execution_count": null,
      "outputs": [
        {
          "output_type": "stream",
          "name": "stdout",
          "text": [
            "/content/drive/MyDrive/Umm_Hands_On/okj/Uformer\n"
          ]
        }
      ]
    },
    {
      "cell_type": "code",
      "source": [
        "pip install -r requirements.txt"
      ],
      "metadata": {
        "id": "fbSq5QDRr7We",
        "colab": {
          "base_uri": "https://localhost:8080/"
        },
        "outputId": "6b943043-4a69-469c-be25-87244e2c6501"
      },
      "execution_count": null,
      "outputs": [
        {
          "output_type": "stream",
          "name": "stdout",
          "text": [
            "Looking in indexes: https://pypi.org/simple, https://us-python.pkg.dev/colab-wheels/public/simple/\n",
            "Collecting torch==1.7.1\n",
            "  Downloading torch-1.7.1-cp37-cp37m-manylinux1_x86_64.whl (776.8 MB)\n",
            "\u001b[K     |████████████████████████████████| 776.8 MB 17 kB/s \n",
            "\u001b[?25hCollecting torchvision==0.8.2\n",
            "  Downloading torchvision-0.8.2-cp37-cp37m-manylinux1_x86_64.whl (12.8 MB)\n",
            "\u001b[K     |████████████████████████████████| 12.8 MB 56.5 MB/s \n",
            "\u001b[?25hRequirement already satisfied: matplotlib in /usr/local/lib/python3.7/dist-packages (from -r requirements.txt (line 3)) (3.2.2)\n",
            "Requirement already satisfied: scikit-image in /usr/local/lib/python3.7/dist-packages (from -r requirements.txt (line 4)) (0.18.3)\n",
            "Requirement already satisfied: opencv-python in /usr/local/lib/python3.7/dist-packages (from -r requirements.txt (line 5)) (4.1.2.30)\n",
            "Collecting yacs\n",
            "  Downloading yacs-0.1.8-py3-none-any.whl (14 kB)\n",
            "Requirement already satisfied: joblib in /usr/local/lib/python3.7/dist-packages (from -r requirements.txt (line 7)) (1.1.0)\n",
            "Requirement already satisfied: natsort in /usr/local/lib/python3.7/dist-packages (from -r requirements.txt (line 8)) (5.5.0)\n",
            "Requirement already satisfied: h5py in /usr/local/lib/python3.7/dist-packages (from -r requirements.txt (line 9)) (3.1.0)\n",
            "Requirement already satisfied: tqdm in /usr/local/lib/python3.7/dist-packages (from -r requirements.txt (line 10)) (4.64.0)\n",
            "Collecting einops\n",
            "  Downloading einops-0.4.1-py3-none-any.whl (28 kB)\n",
            "Collecting linformer\n",
            "  Downloading linformer-0.2.1-py3-none-any.whl (6.1 kB)\n",
            "Collecting timm\n",
            "  Downloading timm-0.5.4-py3-none-any.whl (431 kB)\n",
            "\u001b[K     |████████████████████████████████| 431 kB 72.3 MB/s \n",
            "\u001b[?25hCollecting ptflops\n",
            "  Downloading ptflops-0.6.9.tar.gz (12 kB)\n",
            "Collecting dataclasses\n",
            "  Downloading dataclasses-0.6-py3-none-any.whl (14 kB)\n",
            "Requirement already satisfied: typing-extensions in /usr/local/lib/python3.7/dist-packages (from torch==1.7.1->-r requirements.txt (line 1)) (4.2.0)\n",
            "Requirement already satisfied: numpy in /usr/local/lib/python3.7/dist-packages (from torch==1.7.1->-r requirements.txt (line 1)) (1.21.6)\n",
            "Requirement already satisfied: pillow>=4.1.1 in /usr/local/lib/python3.7/dist-packages (from torchvision==0.8.2->-r requirements.txt (line 2)) (7.1.2)\n",
            "Requirement already satisfied: kiwisolver>=1.0.1 in /usr/local/lib/python3.7/dist-packages (from matplotlib->-r requirements.txt (line 3)) (1.4.2)\n",
            "Requirement already satisfied: cycler>=0.10 in /usr/local/lib/python3.7/dist-packages (from matplotlib->-r requirements.txt (line 3)) (0.11.0)\n",
            "Requirement already satisfied: python-dateutil>=2.1 in /usr/local/lib/python3.7/dist-packages (from matplotlib->-r requirements.txt (line 3)) (2.8.2)\n",
            "Requirement already satisfied: pyparsing!=2.0.4,!=2.1.2,!=2.1.6,>=2.0.1 in /usr/local/lib/python3.7/dist-packages (from matplotlib->-r requirements.txt (line 3)) (3.0.9)\n",
            "Requirement already satisfied: six>=1.5 in /usr/local/lib/python3.7/dist-packages (from python-dateutil>=2.1->matplotlib->-r requirements.txt (line 3)) (1.15.0)\n",
            "Requirement already satisfied: scipy>=1.0.1 in /usr/local/lib/python3.7/dist-packages (from scikit-image->-r requirements.txt (line 4)) (1.4.1)\n",
            "Requirement already satisfied: tifffile>=2019.7.26 in /usr/local/lib/python3.7/dist-packages (from scikit-image->-r requirements.txt (line 4)) (2021.11.2)\n",
            "Requirement already satisfied: PyWavelets>=1.1.1 in /usr/local/lib/python3.7/dist-packages (from scikit-image->-r requirements.txt (line 4)) (1.3.0)\n",
            "Requirement already satisfied: imageio>=2.3.0 in /usr/local/lib/python3.7/dist-packages (from scikit-image->-r requirements.txt (line 4)) (2.4.1)\n",
            "Requirement already satisfied: networkx>=2.0 in /usr/local/lib/python3.7/dist-packages (from scikit-image->-r requirements.txt (line 4)) (2.6.3)\n",
            "Requirement already satisfied: PyYAML in /usr/local/lib/python3.7/dist-packages (from yacs->-r requirements.txt (line 6)) (3.13)\n",
            "Requirement already satisfied: cached-property in /usr/local/lib/python3.7/dist-packages (from h5py->-r requirements.txt (line 9)) (1.5.2)\n",
            "Building wheels for collected packages: ptflops\n",
            "  Building wheel for ptflops (setup.py) ... \u001b[?25l\u001b[?25hdone\n",
            "  Created wheel for ptflops: filename=ptflops-0.6.9-py3-none-any.whl size=11712 sha256=651b8036139a8f7d94183a0c10c4f3e7defdedb30548dd2f21be7d9bb940de8d\n",
            "  Stored in directory: /root/.cache/pip/wheels/c8/71/2f/92426c1ef33fb2e275b533878d8378f91c7f26846d9669019c\n",
            "Successfully built ptflops\n",
            "Installing collected packages: torch, torchvision, yacs, timm, ptflops, linformer, einops, dataclasses\n",
            "  Attempting uninstall: torch\n",
            "    Found existing installation: torch 1.11.0+cu113\n",
            "    Uninstalling torch-1.11.0+cu113:\n",
            "      Successfully uninstalled torch-1.11.0+cu113\n",
            "  Attempting uninstall: torchvision\n",
            "    Found existing installation: torchvision 0.12.0+cu113\n",
            "    Uninstalling torchvision-0.12.0+cu113:\n",
            "      Successfully uninstalled torchvision-0.12.0+cu113\n",
            "\u001b[31mERROR: pip's dependency resolver does not currently take into account all the packages that are installed. This behaviour is the source of the following dependency conflicts.\n",
            "torchtext 0.12.0 requires torch==1.11.0, but you have torch 1.7.1 which is incompatible.\n",
            "torchaudio 0.11.0+cu113 requires torch==1.11.0, but you have torch 1.7.1 which is incompatible.\u001b[0m\n",
            "Successfully installed dataclasses-0.6 einops-0.4.1 linformer-0.2.1 ptflops-0.6.9 timm-0.5.4 torch-1.7.1 torchvision-0.8.2 yacs-0.1.8\n"
          ]
        }
      ]
    },
    {
      "cell_type": "code",
      "source": [
        "import numpy as np\n",
        "import os,sys\n",
        "import argparse\n",
        "from tqdm import tqdm\n",
        "from einops import rearrange, repeat\n",
        "\n",
        "import torch.nn as nn\n",
        "import torch\n",
        "from torch.utils.data import DataLoader\n",
        "import torch.nn.functional as F\n",
        "from ptflops import get_model_complexity_info\n",
        "\n",
        "sys.path.append('/home/wangzd/uformer/')\n",
        "\n",
        "import scipy.io as sio\n",
        "from utils.loader import get_validation_data\n",
        "import utils\n",
        "\n",
        "from model import UNet,Uformer,Uformer_Cross,Uformer_CatCross\n",
        "\n",
        "from skimage import img_as_float32, img_as_ubyte\n",
        "from skimage.metrics import peak_signal_noise_ratio as psnr_loss\n",
        "from skimage.metrics import structural_similarity as ssim_loss"
      ],
      "metadata": {
        "id": "JgENYetTsEeW"
      },
      "execution_count": null,
      "outputs": []
    },
    {
      "cell_type": "code",
      "source": [
        "parser = argparse.ArgumentParser(description='RGB denoising evaluation on the validation set of SIDD')\n",
        "parser.add_argument('--input_dir', default='/content/data/val',\n",
        "    type=str, help='Directory of validation images')\n",
        "parser.add_argument('--result_dir', default='/content/drive/MyDrive/Umm_Hands_On/okj/Uformer/test_result',\n",
        "    type=str, help='Directory for results')\n",
        "parser.add_argument('--weights', default='/content/drive/MyDrive/Umm_Hands_On/okj/Uformer/uformer16_denoising_sidd.pth',\n",
        "    type=str, help='Path to weights')\n",
        "parser.add_argument('--gpus', default='0', type=str, help='CUDA_VISIBLE_DEVICES')\n",
        "parser.add_argument('--arch', default='Uformer', type=str, help='arch')\n",
        "parser.add_argument('--batch_size', default=1, type=int, help='Batch size for dataloader')\n",
        "parser.add_argument('--save_images', action='store_true', help='Save denoised images in result directory')\n",
        "parser.add_argument('--embed_dim', type=int, default=16, help='number of data loading workers')    \n",
        "parser.add_argument('--win_size', type=int, default=8, help='number of data loading workers')\n",
        "parser.add_argument('--token_projection', type=str,default='linear', help='linear/conv token projection')\n",
        "parser.add_argument('--token_mlp', type=str,default='leff', help='ffn/leff token mlp')\n",
        "# args for vit\n",
        "parser.add_argument('--vit_dim', type=int, default=256, help='vit hidden_dim')\n",
        "parser.add_argument('--vit_depth', type=int, default=12, help='vit depth')\n",
        "parser.add_argument('--vit_nheads', type=int, default=8, help='vit hidden_dim')\n",
        "parser.add_argument('--vit_mlp_dim', type=int, default=512, help='vit mlp_dim')\n",
        "parser.add_argument('--vit_patch_size', type=int, default=16, help='vit patch_size')\n",
        "parser.add_argument('--global_skip', action='store_true', default=False, help='global skip connection')\n",
        "parser.add_argument('--local_skip', action='store_true', default=False, help='local skip connection')\n",
        "parser.add_argument('--vit_share', action='store_true', default=False, help='share vit module')\n",
        "\n",
        "parser.add_argument('--train_ps', type=int, default=128, help='patch size of training sample')\n",
        "args = parser.parse_args(\"\")\n",
        "\n",
        "#\n",
        "#\n",
        "#\n",
        "\n",
        "os.environ[\"CUDA_DEVICE_ORDER\"] = \"PCI_BUS_ID\"\n",
        "os.environ[\"CUDA_VISIBLE_DEVICES\"] = args.gpus\n",
        "\n",
        "utils.mkdir(args.result_dir)\n",
        "\n",
        "test_dataset = get_validation_data(args.input_dir)\n",
        "test_loader = DataLoader(dataset=test_dataset, batch_size=1, shuffle=False, num_workers=8, drop_last=False)\n",
        "\n",
        "model_restoration= utils.get_arch(args)\n",
        "model_restoration = torch.nn.DataParallel(model_restoration)\n",
        "\n",
        "utils.load_checkpoint(model_restoration,args.weights)\n",
        "print(\"===>Testing using weights: \", args.weights)\n",
        "\n",
        "model_restoration.cuda()\n",
        "model_restoration.eval()\n",
        "with torch.no_grad():\n",
        "    psnr_val_rgb = []\n",
        "    ssim_val_rgb = []\n",
        "    for ii, data_test in enumerate(tqdm(test_loader), 0):\n",
        "        rgb_gt = data_test[0].numpy().squeeze().transpose((1,2,0))\n",
        "        rgb_noisy = data_test[1].cuda()\n",
        "        filenames = data_test[2]\n",
        "\n",
        "        rgb_restored = model_restoration(rgb_noisy)\n",
        "        rgb_restored = torch.clamp(rgb_restored,0,1).cpu().numpy().squeeze().transpose((1,2,0))\n",
        "        psnr_val_rgb.append(psnr_loss(rgb_restored, rgb_gt))\n",
        "        ssim_val_rgb.append(ssim_loss(rgb_restored, rgb_gt, multichannel=True))\n",
        "\n",
        "        if args.save_images:\n",
        "            utils.save_img(os.path.join(args.result_dir,filenames[0]), img_as_ubyte(rgb_restored))\n",
        "\n",
        "psnr_val_rgb = sum(psnr_val_rgb)/len(test_dataset)\n",
        "ssim_val_rgb = sum(ssim_val_rgb)/len(test_dataset)\n",
        "print(\"PSNR: %f, SSIM: %f \" %(psnr_val_rgb,ssim_val_rgb))"
      ],
      "metadata": {
        "id": "FU5KcDj_ri4l",
        "colab": {
          "base_uri": "https://localhost:8080/"
        },
        "outputId": "0061acac-bf0a-4bd1-8d7f-987670de89f8"
      },
      "execution_count": null,
      "outputs": [
        {
          "output_type": "stream",
          "name": "stdout",
          "text": [
            "You choose Uformer...\n",
            "===>Testing using weights:  /content/drive/MyDrive/Umm_Hands_On/okj/Uformer/uformer16_denoising_sidd.pth\n"
          ]
        },
        {
          "output_type": "stream",
          "name": "stderr",
          "text": [
            "100%|██████████| 31200/31200 [40:10<00:00, 12.94it/s]"
          ]
        },
        {
          "output_type": "stream",
          "name": "stdout",
          "text": [
            "PSNR: 27.949427, SSIM: 0.928580 \n"
          ]
        },
        {
          "output_type": "stream",
          "name": "stderr",
          "text": [
            "\n"
          ]
        }
      ]
    },
    {
      "cell_type": "code",
      "source": [
        ""
      ],
      "metadata": {
        "id": "WwtTa3F9PndP"
      },
      "execution_count": null,
      "outputs": []
    }
  ]
}